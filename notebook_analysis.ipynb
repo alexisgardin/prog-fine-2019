{
 "cells": [
  {
   "cell_type": "code",
   "execution_count": 28,
   "metadata": {},
   "outputs": [
    {
     "name": "stdout",
     "output_type": "stream",
     "text": [
      "a :  1.2804496689013418\n",
      "b :  -10.730007549232354\n"
     ]
    },
    {
     "data": {
      "image/png": "[encoded data removed]",
      "text/plain": [
       "<Figure size 432x288 with 1 Axes>"
      ]
     },
     "metadata": {
      "needs_background": "light"
     },
     "output_type": "display_data"
    }
   ],
   "source": [
    "import numpy as np\n",
    "import matplotlib.pyplot as plt\n",
    "import json\n",
    "\n",
    "# Fixing random state for reproducibility\n",
    "np.random.seed(19680801)\n",
    "bm = {}\n",
    "with open('benchmarkresult.json', 'r') as f:\n",
    "    bm = json.load(f)\n",
    "xTime = []\n",
    "ySize = []\n",
    "for result in bm[\"benchmarks\"]:\n",
    "    if \"ORDERED\" in result[\"run_name\"]:\n",
    "        xTime.append(result[\"real_time\"])\n",
    "        size = int(result[\"run_name\"].split(\"/\")[-1])\n",
    "        ySize.append(size)\n",
    "        \n",
    "xTime = np.log(xTime)\n",
    "ySize = np.log(ySize)\n",
    "plt.scatter(xTime, ySize)\n",
    "a = np.cov(xTime, ySize)[0][1]/np.var(xTime)\n",
    "b = a*np.mean(xTime)-np.mean(ySize)\n",
    "print(\"a : \",a)\n",
    "print(\"b : \",b)"
   ]
  },
  {
   "cell_type": "code",
   "execution_count": null,
   "metadata": {},
   "outputs": [],
   "source": []
  },
  {
   "cell_type": "code",
   "execution_count": null,
   "metadata": {},
   "outputs": [],
   "source": []
  }
 ],
 "metadata": {
  "kernelspec": {
   "display_name": "Python 3",
   "language": "python",
   "name": "python3"
  },
  "language_info": {
   "codemirror_mode": {
    "name": "ipython",
    "version": 3
   },
   "file_extension": ".py",
   "mimetype": "text/x-python",
   "name": "python",
   "nbconvert_exporter": "python",
   "pygments_lexer": "ipython3",
   "version": "3.6.6"
  }
 },
 "nbformat": 4,
 "nbformat_minor": 2
}
